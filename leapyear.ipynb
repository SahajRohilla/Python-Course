{
 "cells": [
  {
   "cell_type": "code",
   "execution_count": 21,
   "id": "7e392c72-a54b-430e-8bf8-2db09427f670",
   "metadata": {},
   "outputs": [
    {
     "name": "stdin",
     "output_type": "stream",
     "text": [
      "Enter year :  1996\n"
     ]
    },
    {
     "data": {
      "text/plain": [
       "True"
      ]
     },
     "execution_count": 21,
     "metadata": {},
     "output_type": "execute_result"
    }
   ],
   "source": [
    "import calendar\n",
    "calendar.isleap(int(input('Enter year : ')))"
   ]
  },
  {
   "cell_type": "code",
   "execution_count": 15,
   "id": "e669939e-3d6b-4bba-ab6e-7f0b3d228ce4",
   "metadata": {},
   "outputs": [
    {
     "name": "stdin",
     "output_type": "stream",
     "text": [
      "Enter year :  1996\n"
     ]
    },
    {
     "data": {
      "text/plain": [
       "'True'"
      ]
     },
     "execution_count": 15,
     "metadata": {},
     "output_type": "execute_result"
    }
   ],
   "source": [
    "year = int(input('Enter year : '))\n",
    "\"True\" if (year % 400 == 0) or (year % 4 == 0 and year % 100 != 0) else \"False\""
   ]
  },
  {
   "cell_type": "code",
   "execution_count": null,
   "id": "d4d3443c-f0e0-4a92-b590-76a53e6c9c62",
   "metadata": {},
   "outputs": [],
   "source": []
  }
 ],
 "metadata": {
  "kernelspec": {
   "display_name": "Python 3 (ipykernel)",
   "language": "python",
   "name": "python3"
  },
  "language_info": {
   "codemirror_mode": {
    "name": "ipython",
    "version": 3
   },
   "file_extension": ".py",
   "mimetype": "text/x-python",
   "name": "python",
   "nbconvert_exporter": "python",
   "pygments_lexer": "ipython3",
   "version": "3.12.7"
  }
 },
 "nbformat": 4,
 "nbformat_minor": 5
}
