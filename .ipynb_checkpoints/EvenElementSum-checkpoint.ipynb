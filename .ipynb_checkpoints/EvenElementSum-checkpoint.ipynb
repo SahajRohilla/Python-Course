{
 "cells": [
  {
   "cell_type": "markdown",
   "id": "7005856f-6b09-41b4-b434-5c34762f81ef",
   "metadata": {},
   "source": [
    "<h1>Sum of even elements from the list</h1>\n",
    "<b>\n",
    "     Python function that takes a list of integers and returns the sum of all the even\n",
    "numbers in the list.\n",
    "    <br>\n",
    "    Example Input: [1, 2, 3, 4, 5]\n",
    "<br> Example Output: 6\n",
    "</b>"
   ]
  },
  {
   "cell_type": "code",
   "execution_count": 4,
   "id": "bdaa7b08-3fdb-4970-a8c1-8846255570b0",
   "metadata": {},
   "outputs": [
    {
     "name": "stdin",
     "output_type": "stream",
     "text": [
      "Enter elements of list (comma separated) 1,2,3,4,5\n"
     ]
    },
    {
     "name": "stdout",
     "output_type": "stream",
     "text": [
      "[1, 2, 3, 4, 5]\n",
      "6\n"
     ]
    }
   ],
   "source": [
    "myList = list(map(int, input('Enter elements of list (comma separated)').split(',')))\n",
    "print(myList)\n",
    "def evenSum(myList):\n",
    "    sum = 0\n",
    "    for x in myList:\n",
    "        if x % 2==0:\n",
    "            sum = sum + x\n",
    "    return sum\n",
    "\n",
    "print(evenSum(myList))\n",
    "\n",
    "    "
   ]
  },
  {
   "cell_type": "code",
   "execution_count": null,
   "id": "a2797b14-22c9-4d07-b923-b499bd275b60",
   "metadata": {},
   "outputs": [],
   "source": []
  }
 ],
 "metadata": {
  "kernelspec": {
   "display_name": "Python 3 (ipykernel)",
   "language": "python",
   "name": "python3"
  },
  "language_info": {
   "codemirror_mode": {
    "name": "ipython",
    "version": 3
   },
   "file_extension": ".py",
   "mimetype": "text/x-python",
   "name": "python",
   "nbconvert_exporter": "python",
   "pygments_lexer": "ipython3",
   "version": "3.12.7"
  }
 },
 "nbformat": 4,
 "nbformat_minor": 5
}
