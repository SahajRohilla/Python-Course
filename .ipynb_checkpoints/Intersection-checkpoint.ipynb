{
 "cells": [
  {
   "cell_type": "markdown",
   "id": "170e7d23-dd69-40fa-915d-59fbb80a6706",
   "metadata": {},
   "source": [
    "<h1>Intersection(common elements) of the list</h1>\n",
    "<b>Description: The function should return a list of elements that appear in both input lists.</b>\n",
    "<br>\n",
    "<b> Example Input: [1, 2, 3, 4] and [3, 4, 5, 6]\n",
    "    <br>\n",
    "    Example Output: [3, 4]\n",
    "</b>"
   ]
  },
  {
   "cell_type": "code",
   "execution_count": 14,
   "id": "c90de99e-d2b8-47da-81d1-033bc7012401",
   "metadata": {},
   "outputs": [
    {
     "name": "stdout",
     "output_type": "stream",
     "text": [
      "[3, 4]\n"
     ]
    }
   ],
   "source": [
    "list1 = [1,2,3,4]\n",
    "list2 = [3,4,5,6]\n",
    "commonElements = list(set(list1) & set(list2))\n",
    "print(commonElements)"
   ]
  }
 ],
 "metadata": {
  "kernelspec": {
   "display_name": "Python 3 (ipykernel)",
   "language": "python",
   "name": "python3"
  },
  "language_info": {
   "codemirror_mode": {
    "name": "ipython",
    "version": 3
   },
   "file_extension": ".py",
   "mimetype": "text/x-python",
   "name": "python",
   "nbconvert_exporter": "python",
   "pygments_lexer": "ipython3",
   "version": "3.12.7"
  }
 },
 "nbformat": 4,
 "nbformat_minor": 5
}
