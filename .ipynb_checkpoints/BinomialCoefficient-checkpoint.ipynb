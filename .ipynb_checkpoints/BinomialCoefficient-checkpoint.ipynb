{
 "cells": [
  {
   "cell_type": "markdown",
   "id": "435b0f32-41da-4bd9-aaa7-60d4dfccc8c6",
   "metadata": {},
   "source": [
    "<h1>Binomial Coefficient</h1>\n",
    "<b>\n",
    "    Write a Python function to calculate nCr (binomial coefficient) using the formula nCr=n!/r!(n−r)!.\n",
    "    <br>\n",
    " Description: Given integers n and r, calculate the value of nCr.\n",
    "    <br>\n",
    " Example Input: n = 5, r = 3\n",
    "    <br>\n",
    " Example Output: 10\n",
    "</b>"
   ]
  },
  {
   "cell_type": "code",
   "execution_count": 19,
   "id": "a5881bda-8cc4-4f4f-b08a-06e622064e61",
   "metadata": {},
   "outputs": [
    {
     "name": "stdin",
     "output_type": "stream",
     "text": [
      "Enter value of n : 5\n",
      "Enter value of r : 3\n"
     ]
    },
    {
     "name": "stdout",
     "output_type": "stream",
     "text": [
      "10\n"
     ]
    }
   ],
   "source": [
    "n = int(input('Enter value of n :'))\n",
    "r = int(input('Enter value of r :'))\n",
    "\n",
    "def factorial(num):\n",
    "    if num == 1 or num == 1:\n",
    "        return 1\n",
    "    else:\n",
    "        return num * factorial(num-1)\n",
    "    \n",
    "nCrValue = int(factorial(n)/(factorial(r)*factorial(n-r)))\n",
    "print(nCrValue)"
   ]
  },
  {
   "cell_type": "code",
   "execution_count": null,
   "id": "3a4cdfb6-3357-4a2c-9c5e-6ebecb1f930b",
   "metadata": {},
   "outputs": [],
   "source": []
  }
 ],
 "metadata": {
  "kernelspec": {
   "display_name": "Python 3 (ipykernel)",
   "language": "python",
   "name": "python3"
  },
  "language_info": {
   "codemirror_mode": {
    "name": "ipython",
    "version": 3
   },
   "file_extension": ".py",
   "mimetype": "text/x-python",
   "name": "python",
   "nbconvert_exporter": "python",
   "pygments_lexer": "ipython3",
   "version": "3.12.7"
  }
 },
 "nbformat": 4,
 "nbformat_minor": 5
}
