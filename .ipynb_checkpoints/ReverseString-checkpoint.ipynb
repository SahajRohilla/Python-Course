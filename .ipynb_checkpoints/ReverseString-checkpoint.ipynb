{
 "cells": [
  {
   "cell_type": "markdown",
   "id": "fcb635a5-f31d-47da-a5b4-99deecb70a79",
   "metadata": {},
   "source": [
    "<h1>Reverse a String</h1>\n",
    "<b>\n",
    "    Write a Python function that takes a string as input and returns the string reversed.\n",
    "    <br>\n",
    "    Example Input: \"hello\"\n",
    "    <br>\n",
    "    Example Output: \"olleh\"\n",
    "\n",
    "</b>"
   ]
  },
  {
   "cell_type": "code",
   "execution_count": 2,
   "id": "37d84ef9-4629-456a-bc16-1c70f20fcd09",
   "metadata": {},
   "outputs": [
    {
     "name": "stdin",
     "output_type": "stream",
     "text": [
      "Enter String : hello\n"
     ]
    },
    {
     "name": "stdout",
     "output_type": "stream",
     "text": [
      "olleh\n"
     ]
    }
   ],
   "source": [
    "myString = input('Enter String :')\n",
    "print(myString[::-1])"
   ]
  },
  {
   "cell_type": "code",
   "execution_count": null,
   "id": "592fab92-3118-46d9-a251-f87536b0587a",
   "metadata": {},
   "outputs": [],
   "source": []
  }
 ],
 "metadata": {
  "kernelspec": {
   "display_name": "Python 3 (ipykernel)",
   "language": "python",
   "name": "python3"
  },
  "language_info": {
   "codemirror_mode": {
    "name": "ipython",
    "version": 3
   },
   "file_extension": ".py",
   "mimetype": "text/x-python",
   "name": "python",
   "nbconvert_exporter": "python",
   "pygments_lexer": "ipython3",
   "version": "3.12.7"
  }
 },
 "nbformat": 4,
 "nbformat_minor": 5
}
