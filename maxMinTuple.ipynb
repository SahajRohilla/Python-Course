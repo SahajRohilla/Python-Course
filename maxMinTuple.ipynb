{
 "cells": [
  {
   "cell_type": "markdown",
   "id": "1fead866-58d4-45b4-bf9a-fddeb28bd22b",
   "metadata": {},
   "source": [
    "<h1>Return tuple of max and min element from the List</h1>\n",
    "<b>\n",
    "    Write a Python function that takes a list of integers and returns a tuple containing the\n",
    "maximum and minimum values from the list.\n",
    "<br>\n",
    "    Example Input: [1, 2, 3, 4, 5]\n",
    "<br>\n",
    "    Example Output: (5, 1)\n",
    "</b>"
   ]
  },
  {
   "cell_type": "code",
   "execution_count": 7,
   "id": "33416a38-6071-4e0e-a238-1fb99305e886",
   "metadata": {},
   "outputs": [
    {
     "name": "stdin",
     "output_type": "stream",
     "text": [
      "Enter list elements(comma separated) : 1,2,3,4,5\n"
     ]
    },
    {
     "name": "stdout",
     "output_type": "stream",
     "text": [
      "[1, 2, 3, 4, 5]\n",
      "(5, 1)\n"
     ]
    }
   ],
   "source": [
    "myList = list(map(int,input('Enter list elements(comma separated) :').split(',')))\n",
    "print(myList)\n",
    "def maxMin(myList):\n",
    "    return (max(myList), min(myList))\n",
    "\n",
    "print(maxMin(myList))"
   ]
  },
  {
   "cell_type": "code",
   "execution_count": null,
   "id": "80a45e4d-2282-4cfe-90f1-e7c36cc4d9ac",
   "metadata": {},
   "outputs": [],
   "source": []
  }
 ],
 "metadata": {
  "kernelspec": {
   "display_name": "Python 3 (ipykernel)",
   "language": "python",
   "name": "python3"
  },
  "language_info": {
   "codemirror_mode": {
    "name": "ipython",
    "version": 3
   },
   "file_extension": ".py",
   "mimetype": "text/x-python",
   "name": "python",
   "nbconvert_exporter": "python",
   "pygments_lexer": "ipython3",
   "version": "3.12.7"
  }
 },
 "nbformat": 4,
 "nbformat_minor": 5
}
