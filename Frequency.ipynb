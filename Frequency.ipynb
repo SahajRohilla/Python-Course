{
 "cells": [
  {
   "cell_type": "markdown",
   "id": "c1471662-3269-4735-9ea5-d444e4ff7d66",
   "metadata": {},
   "source": [
    "<h1>Count the frequency of each element in a list</h1>\n",
    "<b> Description: Given a list of elements, return a dictionary where the keys are elements\n",
    "and the values are their frequencies.\n",
    "    <br>  \n",
    "    Example Input: [1, 2, 2, 3, 3, 3, 4]\n",
    "    <br> \n",
    "    Example Output: {1: 1, 2: 2, 3: 3, 4: 1}\n",
    "</b>"
   ]
  },
  {
   "cell_type": "code",
   "execution_count": 9,
   "id": "48b3bc61-c873-4e27-9ed3-aa376ceb4bc4",
   "metadata": {},
   "outputs": [
    {
     "name": "stdin",
     "output_type": "stream",
     "text": [
      "Enter elements of list (comma separated) 1,2,3,3,3,4\n"
     ]
    },
    {
     "name": "stdout",
     "output_type": "stream",
     "text": [
      "[1, 2, 3, 3, 3, 4]\n",
      "Counter({3: 3, 1: 1, 2: 1, 4: 1})\n"
     ]
    }
   ],
   "source": [
    "import collections\n",
    "myList = list(map(int, input('Enter elements of list (comma separated)').split(',')))\n",
    "print(myList)\n",
    "\n",
    "frequency = collections.Counter(myList)\n",
    "print(frequency)\n"
   ]
  },
  {
   "cell_type": "code",
   "execution_count": null,
   "id": "d20b6e4d-1446-4753-b7ba-b7cbcde569e1",
   "metadata": {},
   "outputs": [],
   "source": []
  }
 ],
 "metadata": {
  "kernelspec": {
   "display_name": "Python 3 (ipykernel)",
   "language": "python",
   "name": "python3"
  },
  "language_info": {
   "codemirror_mode": {
    "name": "ipython",
    "version": 3
   },
   "file_extension": ".py",
   "mimetype": "text/x-python",
   "name": "python",
   "nbconvert_exporter": "python",
   "pygments_lexer": "ipython3",
   "version": "3.12.7"
  }
 },
 "nbformat": 4,
 "nbformat_minor": 5
}
