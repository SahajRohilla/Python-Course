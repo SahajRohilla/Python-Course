{
 "cells": [
  {
   "cell_type": "markdown",
   "id": "7183d3a4-caf5-48da-bd34-fd671ed0cc2e",
   "metadata": {},
   "source": [
    "<h1>Factorial using Recursion</h1>\n",
    "<b>Description: The factorial of a number n is the product of all positive integers less than\n",
    "or equal to n.</b>"
   ]
  },
  {
   "cell_type": "code",
   "execution_count": 7,
   "id": "3627d93d-99fe-4073-a2ec-03e0e5a83591",
   "metadata": {},
   "outputs": [],
   "source": [
    "def factorial(n):\n",
    "    if (n==0 or n==1):\n",
    "        return 1\n",
    "    else:\n",
    "        return (n * factorial(n - 1)) "
   ]
  },
  {
   "cell_type": "code",
   "execution_count": 19,
   "id": "f309d355-1466-48b8-83f0-f64908124d71",
   "metadata": {},
   "outputs": [
    {
     "name": "stdin",
     "output_type": "stream",
     "text": [
      "Enter a number : 1\n"
     ]
    },
    {
     "name": "stdout",
     "output_type": "stream",
     "text": [
      "Factorial of number is 1\n"
     ]
    }
   ],
   "source": [
    "num = int(input('Enter a number :'))\n",
    "print('Factorial of number is', factorial(num))"
   ]
  },
  {
   "cell_type": "code",
   "execution_count": null,
   "id": "6ea2593f-add1-4ca6-9119-5e48fd6ad843",
   "metadata": {},
   "outputs": [],
   "source": []
  }
 ],
 "metadata": {
  "kernelspec": {
   "display_name": "Python 3 (ipykernel)",
   "language": "python",
   "name": "python3"
  },
  "language_info": {
   "codemirror_mode": {
    "name": "ipython",
    "version": 3
   },
   "file_extension": ".py",
   "mimetype": "text/x-python",
   "name": "python",
   "nbconvert_exporter": "python",
   "pygments_lexer": "ipython3",
   "version": "3.12.7"
  }
 },
 "nbformat": 4,
 "nbformat_minor": 5
}
