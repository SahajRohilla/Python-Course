{
 "cells": [
  {
   "cell_type": "markdown",
   "id": "67fcc858-ef19-4e03-bc76-1a5e640e89f0",
   "metadata": {},
   "source": [
    "<h1>Vowel Count</h1>\n",
    "<b>\n",
    "    Write a Python function to count the number of vowels in a given string.\n",
    "    <br>\n",
    "    Example Input: \"hello world\"\n",
    "    <br> \n",
    "    Example Output: 3\n",
    "\n",
    "</b>"
   ]
  },
  {
   "cell_type": "code",
   "execution_count": 2,
   "id": "cd911f06-a904-4c28-a090-e2fcc270e7bb",
   "metadata": {},
   "outputs": [
    {
     "name": "stdin",
     "output_type": "stream",
     "text": [
      "Enter String : hello world\n"
     ]
    },
    {
     "name": "stdout",
     "output_type": "stream",
     "text": [
      "3\n"
     ]
    }
   ],
   "source": [
    "myString = input('Enter String :')\n",
    "count = 0\n",
    "for x in myString:\n",
    "    if x in ['a', 'e', 'i', 'o', 'u']:\n",
    "        count = count + 1\n",
    "print(count)"
   ]
  },
  {
   "cell_type": "code",
   "execution_count": null,
   "id": "0ff65840-6140-4b83-bc2a-68c5d11771c8",
   "metadata": {},
   "outputs": [],
   "source": []
  }
 ],
 "metadata": {
  "kernelspec": {
   "display_name": "Python 3 (ipykernel)",
   "language": "python",
   "name": "python3"
  },
  "language_info": {
   "codemirror_mode": {
    "name": "ipython",
    "version": 3
   },
   "file_extension": ".py",
   "mimetype": "text/x-python",
   "name": "python",
   "nbconvert_exporter": "python",
   "pygments_lexer": "ipython3",
   "version": "3.12.7"
  }
 },
 "nbformat": 4,
 "nbformat_minor": 5
}
